GOAL_STATE =  [[1,2,3],[4,5,6],[7,8,0]]

#actions 
# This function return list of possible moves from the current state
def get_possible_moves(state):
    blank_position = find_blank_position(state)
    row, col = blank_position
    moves = []
    if row > 0:
        moves.append("up")
    if row < 2:
        moves.append("down")
    if col > 0:
        moves.append("left")
    if col < 2:
        moves.append("right")
    return moves
     

# succesor function
#This function performs a move on the current state
def perform_move(state, move):
    blank_position = find_blank_position(state)
    new_state = [row.copy() for row in state]  # Create a new 2D list
    row, col = blank_position

    if move == "up":
        new_state[row][col], new_state[row - 1][col] = new_state[row - 1][col], new_state[row][col]
    elif move == "down":
        new_state[row][col], new_state[row + 1][col] = new_state[row + 1][col], new_state[row][col]
    elif move == "left":
        new_state[row][col], new_state[row][col - 1] = new_state[row][col - 1], new_state[row][col]
    else:
        new_state[row][col], new_state[row][col + 1] = new_state[row][col + 1], new_state[row][col]

    return new_state


def find_blank_position(state):
    for i, row in enumerate(state):
        for j, value in enumerate(row):
            if value == 0:
                return i, j


#This function checks if current state is goal state
def is_goal_state(state):
  #Check if the current state is teh goal state
  return state == GOAL_STATE
